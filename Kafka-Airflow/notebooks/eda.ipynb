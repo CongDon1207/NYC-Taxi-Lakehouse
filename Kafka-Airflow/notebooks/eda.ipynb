{
 "cells": [
  {
   "cell_type": "code",
   "execution_count": 1,
   "id": "12a6c029",
   "metadata": {},
   "outputs": [],
   "source": [
    "import pyarrow.parquet as pq\n"
   ]
  },
  {
   "cell_type": "code",
   "execution_count": 2,
   "id": "3fabf594",
   "metadata": {},
   "outputs": [
    {
     "name": "stdout",
     "output_type": "stream",
     "text": [
      "Số dòng dữ liệu: 21734822\n"
     ]
    }
   ],
   "source": [
    "# Đọc file parquet bằng pyarrow\n",
    "file_path = \"../data/fhvhv_tripdata_2019-04.parquet\"\n",
    "table = pq.read_table(file_path)\n",
    "print(\"Số dòng dữ liệu:\", table.num_rows)"
   ]
  },
  {
   "cell_type": "code",
   "execution_count": 3,
   "id": "56a58ec6",
   "metadata": {},
   "outputs": [
    {
     "name": "stdout",
     "output_type": "stream",
     "text": [
      "\n",
      "Thông tin tổng quan DataFrame:\n",
      "<class 'pandas.core.frame.DataFrame'>\n",
      "RangeIndex: 21734822 entries, 0 to 21734821\n",
      "Data columns (total 24 columns):\n",
      " #   Column                Dtype         \n",
      "---  ------                -----         \n",
      " 0   hvfhs_license_num     object        \n",
      " 1   dispatching_base_num  object        \n",
      " 2   originating_base_num  object        \n",
      " 3   request_datetime      datetime64[us]\n",
      " 4   on_scene_datetime     datetime64[us]\n",
      " 5   pickup_datetime       datetime64[us]\n",
      " 6   dropoff_datetime      datetime64[us]\n",
      " 7   PULocationID          int64         \n",
      " 8   DOLocationID          int64         \n",
      " 9   trip_miles            float64       \n",
      " 10  trip_time             int64         \n",
      " 11  base_passenger_fare   float64       \n",
      " 12  tolls                 float64       \n",
      " 13  bcf                   float64       \n",
      " 14  sales_tax             float64       \n",
      " 15  congestion_surcharge  float64       \n",
      " 16  airport_fee           object        \n",
      " 17  tips                  float64       \n",
      " 18  driver_pay            float64       \n",
      " 19  shared_request_flag   object        \n",
      " 20  shared_match_flag     object        \n",
      " 21  access_a_ride_flag    object        \n",
      " 22  wav_request_flag      object        \n",
      " 23  wav_match_flag        object        \n",
      "dtypes: datetime64[us](4), float64(8), int64(3), object(9)\n",
      "memory usage: 3.9+ GB\n",
      "None\n"
     ]
    }
   ],
   "source": [
    "# Chuyển pyarrow Table sang pandas DataFrame để phân tích\n",
    "df = table.to_pandas()\n",
    "\n",
    "# Xem thông tin DataFrame\n",
    "print(\"\\nThông tin tổng quan DataFrame:\")\n",
    "print(df.info())"
   ]
  },
  {
   "cell_type": "code",
   "execution_count": null,
   "id": "5b211740",
   "metadata": {},
   "outputs": [
    {
     "name": "stdout",
     "output_type": "stream",
     "text": [
      "\n",
      "5 dòng đầu của dữ liệu:\n",
      "  hvfhs_license_num dispatching_base_num originating_base_num  \\\n",
      "0            HV0005               B02510                 None   \n",
      "1            HV0005               B02510                 None   \n",
      "2            HV0005               B02510                 None   \n",
      "3            HV0005               B02510                        \n",
      "4            HV0003               B02764               B02764   \n",
      "\n",
      "     request_datetime   on_scene_datetime     pickup_datetime  \\\n",
      "0 2019-04-01 00:09:15                 NaT 2019-04-01 00:11:25   \n",
      "1 2019-04-01 00:25:53                 NaT 2019-04-01 00:28:57   \n",
      "2 2019-04-01 00:55:54                 NaT 2019-04-01 00:59:25   \n",
      "3 2019-04-01 00:50:12                 NaT 2019-04-01 00:53:14   \n",
      "4 2019-04-01 00:00:22 2019-04-01 00:10:28 2019-04-01 00:11:42   \n",
      "\n",
      "     dropoff_datetime  PULocationID  DOLocationID  trip_miles  ...  sales_tax  \\\n",
      "0 2019-04-01 00:21:56            52            97        1.70  ...       0.69   \n",
      "1 2019-04-01 00:52:24            97           239       11.31  ...       2.59   \n",
      "2 2019-04-01 01:29:54           238            61       12.57  ...       3.53   \n",
      "3 2019-04-01 00:57:02           212           213        0.99  ...       0.60   \n",
      "4 2019-04-01 00:20:06           165           210        2.42  ...       0.46   \n",
      "\n",
      "   congestion_surcharge  airport_fee  tips  driver_pay  shared_request_flag  \\\n",
      "0                  0.00         None   0.0        7.07                    N   \n",
      "1                  2.75         None   0.0       23.99                    N   \n",
      "2                  2.75         None   0.0       28.85                    N   \n",
      "3                  0.00         None   0.0        0.00                    Y   \n",
      "4                  0.00         None   0.0        7.22                    Y   \n",
      "\n",
      "  shared_match_flag  access_a_ride_flag  wav_request_flag wav_match_flag  \n",
      "0                 N                   N                 N           None  \n",
      "1                 N                   N                 N           None  \n",
      "2                 N                   N                 N           None  \n",
      "3                 N                   N                 N           None  \n",
      "4                 Y                   N                 N           None  \n",
      "\n",
      "[5 rows x 24 columns]\n"
     ]
    },
    {
     "ename": "",
     "evalue": "",
     "output_type": "error",
     "traceback": [
      "\u001b[1;31mThe Kernel crashed while executing code in the current cell or a previous cell. \n",
      "\u001b[1;31mPlease review the code in the cell(s) to identify a possible cause of the failure. \n",
      "\u001b[1;31mClick <a href='https://aka.ms/vscodeJupyterKernelCrash'>here</a> for more info. \n",
      "\u001b[1;31mView Jupyter <a href='command:jupyter.viewOutput'>log</a> for further details."
     ]
    }
   ],
   "source": [
    "# Xem 5 dòng đầu\n",
    "print(\"\\n5 dòng đầu của dữ liệu:\")\n",
    "print(df.head())"
   ]
  },
  {
   "cell_type": "code",
   "execution_count": null,
   "id": "75ae174e",
   "metadata": {},
   "outputs": [],
   "source": []
  }
 ],
 "metadata": {
  "kernelspec": {
   "display_name": "Python (lakehouse-env)",
   "language": "python",
   "name": "lakehouse-env"
  },
  "language_info": {
   "codemirror_mode": {
    "name": "ipython",
    "version": 3
   },
   "file_extension": ".py",
   "mimetype": "text/x-python",
   "name": "python",
   "nbconvert_exporter": "python",
   "pygments_lexer": "ipython3",
   "version": "3.12.3"
  }
 },
 "nbformat": 4,
 "nbformat_minor": 5
}
